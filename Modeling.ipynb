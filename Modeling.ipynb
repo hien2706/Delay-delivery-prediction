{
  "nbformat": 4,
  "nbformat_minor": 0,
  "metadata": {
    "colab": {
      "provenance": [],
      "toc_visible": true
    },
    "kernelspec": {
      "name": "python3",
      "display_name": "Python 3"
    },
    "language_info": {
      "name": "python"
    }
  },
  "cells": [
    {
      "cell_type": "code",
      "execution_count": 2,
      "metadata": {
        "colab": {
          "base_uri": "https://localhost:8080/"
        },
        "id": "KQy70dxszv0L",
        "outputId": "85c10e60-bae2-40ed-a5b6-9bcdad93846a"
      },
      "outputs": [
        {
          "output_type": "stream",
          "name": "stdout",
          "text": [
            "Drive already mounted at /content/drive; to attempt to forcibly remount, call drive.mount(\"/content/drive\", force_remount=True).\n"
          ]
        }
      ],
      "source": [
        "from google.colab import drive\n",
        "drive.mount('/content/drive')"
      ]
    },
    {
      "cell_type": "code",
      "source": [
        "import pandas as pd\n",
        "import numpy as np\n",
        "df = pd.read_csv('/content/drive/MyDrive/kì 2/tien xu li & xay dung bo du lieu/BTTH5_DS108/clean_data.csv')\n"
      ],
      "metadata": {
        "id": "rlia2rto0wSg"
      },
      "execution_count": 40,
      "outputs": []
    },
    {
      "cell_type": "code",
      "source": [
        "#lightgbm\n",
        "feat_to_keep = ['CLASSIFY_CD', 'SO_TIME', 'CUST_CD', 'PURCHASE AMOUNT', 'SUPPLIER_CD', 'WEIGHT', 'DAY_RANGE', 'DAY_OF_MONTH', 'BRAND_CD', 'Ship Mode', 'Sales order line number', 'MONTH', 'LOGICAL PLANT','label']\n",
        "#catBoost\n",
        "feat_to_keep_1 = ['DAY_RANGE', 'Ship Mode', 'DIRECT SHIP FLG', 'DELI_DIV', 'CLASSIFY_CD', 'SUPPLIER_CD', 'MONTH', 'DAY_OF_MONTH', 'PURCHASE AMOUNT', 'Consider count hodiday Saturday', 'LOGICAL PLANT', 'BRAND_CD', 'CUST_CD', 'SO_TIME', 'Sales order line number','label']\n"
      ],
      "metadata": {
        "id": "keps6MlJ0hs7"
      },
      "execution_count": 41,
      "outputs": []
    },
    {
      "cell_type": "code",
      "source": [
        "#for lightgbm\n",
        "df1 = df.loc[:,feat_to_keep]\n",
        "#for catBoost\n",
        "df2 = df.loc[:,feat_to_keep_1]"
      ],
      "metadata": {
        "id": "AlFnYUAM1cDe"
      },
      "execution_count": 42,
      "outputs": []
    },
    {
      "cell_type": "code",
      "source": [
        "!pip install catboost"
      ],
      "metadata": {
        "colab": {
          "base_uri": "https://localhost:8080/"
        },
        "id": "4YZXauDH14fi",
        "outputId": "b41c0010-71fe-4f00-d06c-c2484358a8ba"
      },
      "execution_count": 6,
      "outputs": [
        {
          "output_type": "stream",
          "name": "stdout",
          "text": [
            "Collecting catboost\n",
            "  Downloading catboost-1.2.5-cp310-cp310-manylinux2014_x86_64.whl (98.2 MB)\n",
            "\u001b[2K     \u001b[90m━━━━━━━━━━━━━━━━━━━━━━━━━━━━━━━━━━━━━━━━\u001b[0m \u001b[32m98.2/98.2 MB\u001b[0m \u001b[31m7.9 MB/s\u001b[0m eta \u001b[36m0:00:00\u001b[0m\n",
            "\u001b[?25hRequirement already satisfied: graphviz in /usr/local/lib/python3.10/dist-packages (from catboost) (0.20.3)\n",
            "Requirement already satisfied: matplotlib in /usr/local/lib/python3.10/dist-packages (from catboost) (3.7.1)\n",
            "Requirement already satisfied: numpy>=1.16.0 in /usr/local/lib/python3.10/dist-packages (from catboost) (1.25.2)\n",
            "Requirement already satisfied: pandas>=0.24 in /usr/local/lib/python3.10/dist-packages (from catboost) (2.0.3)\n",
            "Requirement already satisfied: scipy in /usr/local/lib/python3.10/dist-packages (from catboost) (1.11.4)\n",
            "Requirement already satisfied: plotly in /usr/local/lib/python3.10/dist-packages (from catboost) (5.15.0)\n",
            "Requirement already satisfied: six in /usr/local/lib/python3.10/dist-packages (from catboost) (1.16.0)\n",
            "Requirement already satisfied: python-dateutil>=2.8.2 in /usr/local/lib/python3.10/dist-packages (from pandas>=0.24->catboost) (2.8.2)\n",
            "Requirement already satisfied: pytz>=2020.1 in /usr/local/lib/python3.10/dist-packages (from pandas>=0.24->catboost) (2023.4)\n",
            "Requirement already satisfied: tzdata>=2022.1 in /usr/local/lib/python3.10/dist-packages (from pandas>=0.24->catboost) (2024.1)\n",
            "Requirement already satisfied: contourpy>=1.0.1 in /usr/local/lib/python3.10/dist-packages (from matplotlib->catboost) (1.2.1)\n",
            "Requirement already satisfied: cycler>=0.10 in /usr/local/lib/python3.10/dist-packages (from matplotlib->catboost) (0.12.1)\n",
            "Requirement already satisfied: fonttools>=4.22.0 in /usr/local/lib/python3.10/dist-packages (from matplotlib->catboost) (4.51.0)\n",
            "Requirement already satisfied: kiwisolver>=1.0.1 in /usr/local/lib/python3.10/dist-packages (from matplotlib->catboost) (1.4.5)\n",
            "Requirement already satisfied: packaging>=20.0 in /usr/local/lib/python3.10/dist-packages (from matplotlib->catboost) (24.0)\n",
            "Requirement already satisfied: pillow>=6.2.0 in /usr/local/lib/python3.10/dist-packages (from matplotlib->catboost) (9.4.0)\n",
            "Requirement already satisfied: pyparsing>=2.3.1 in /usr/local/lib/python3.10/dist-packages (from matplotlib->catboost) (3.1.2)\n",
            "Requirement already satisfied: tenacity>=6.2.0 in /usr/local/lib/python3.10/dist-packages (from plotly->catboost) (8.3.0)\n",
            "Installing collected packages: catboost\n",
            "Successfully installed catboost-1.2.5\n"
          ]
        }
      ]
    },
    {
      "cell_type": "code",
      "source": [
        "from sklearn.metrics import classification_report,f1_score\n",
        "from sklearn.model_selection import train_test_split\n",
        "from sklearn.utils import resample\n",
        "from sklearn.preprocessing import StandardScaler\n",
        "import seaborn as sns\n",
        "from sklearn.metrics import confusion_matrix\n",
        "import matplotlib.pyplot as plt"
      ],
      "metadata": {
        "id": "ZnvMKN1h19aj"
      },
      "execution_count": 7,
      "outputs": []
    },
    {
      "cell_type": "markdown",
      "source": [
        "#Evaluating models"
      ],
      "metadata": {
        "id": "Fc782pKV2NNF"
      }
    },
    {
      "cell_type": "code",
      "source": [
        "def data_preparation(df,has_weight = True):\n",
        "  X = df.drop(['label'],axis = 1)\n",
        "  y = df['label']\n",
        "\n",
        "  print('spliting the data')\n",
        "  X_train, X_temp, y_train, y_temp = train_test_split(X, y, test_size=0.2, random_state=42, stratify=y)\n",
        "  X_val, X_test, y_val, y_test = train_test_split(X_temp, y_temp, test_size=0.5, random_state=42, stratify=y_temp)\n",
        "\n",
        "  print('downsampling')\n",
        "  train_df = pd.concat([X_train, y_train], axis=1)\n",
        "  train_df.columns = list(X_train.columns) + ['label']\n",
        "\n",
        "  majority_class = train_df[train_df['label'] == 0]\n",
        "  minority_class = train_df[train_df['label'] == 1]\n",
        "\n",
        "  majority_class_downsampled = resample(majority_class,\n",
        "                                        replace=False,    # sample without replacement\n",
        "                                        n_samples=20*len(minority_class),  # to match minority class\n",
        "                                        random_state=42)\n",
        "\n",
        "  downsampled_train_df = pd.concat([majority_class_downsampled, minority_class])\n",
        "\n",
        "  X_train_downsampled = downsampled_train_df.drop(columns='label')\n",
        "  y_train_downsampled = downsampled_train_df['label']\n",
        "\n",
        "  if has_weight:\n",
        "    X_train_downsampled['WEIGHT'] = np.log1p(X_train_downsampled['WEIGHT'])\n",
        "    X_val['WEIGHT'] = np.log1p(X_val['WEIGHT'])\n",
        "    X_test['WEIGHT'] = np.log1p(X_test['WEIGHT'])\n",
        "\n",
        "  X_train_downsampled['PURCHASE AMOUNT'] = np.log1p(X_train_downsampled['PURCHASE AMOUNT'])\n",
        "  X_val['PURCHASE AMOUNT'] = np.log1p(X_val['PURCHASE AMOUNT'])\n",
        "  X_test['PURCHASE AMOUNT'] = np.log1p(X_test['PURCHASE AMOUNT'])\n",
        "\n",
        "  print('scaling')\n",
        "  scl = StandardScaler()\n",
        "  scl.fit(X_train_downsampled)\n",
        "  X_train_downsampled = scl.transform(X_train_downsampled)\n",
        "  X_test = scl.transform(X_test)\n",
        "\n",
        "  return X_train_downsampled,X_val,X_test,y_train_downsampled,y_val,y_test"
      ],
      "metadata": {
        "id": "fJhmxh9I2RSv"
      },
      "execution_count": 34,
      "outputs": []
    },
    {
      "cell_type": "markdown",
      "source": [
        "##Lightgbm"
      ],
      "metadata": {
        "id": "L_j4sdO-3Yro"
      }
    },
    {
      "cell_type": "code",
      "source": [
        "import lightgbm as lgb"
      ],
      "metadata": {
        "id": "W43n3Npbp2Wu"
      },
      "execution_count": null,
      "outputs": []
    },
    {
      "cell_type": "code",
      "source": [
        "X_train,X_val,X_test,y_train,y_val,y_test = data_preparation(df1)\n",
        "\n",
        "clf_lgb = lgb.LGBMClassifier(colsample_bytree=0.6, metric='auc', min_child_weight=5,\n",
        "               n_estimators=256, num_leaves=256, reg_alpha=0.1, subsample=0.8)\n",
        "clf_lgb.fit(X_train,y_train)\n",
        "\n",
        "y_pred = clf_lgb.predict(X_test)\n",
        "print(classification_report(y_test, y_pred))\n",
        "\n",
        "cm = confusion_matrix(y_test, y_pred)\n",
        "\n",
        "# Plot confusion matrix\n",
        "plt.figure(figsize=(10, 7))\n",
        "sns.heatmap(cm, annot=True, fmt='d', cmap='Blues', xticklabels=np.unique(y_test), yticklabels=np.unique(y_test))\n",
        "plt.xlabel('Predicted')\n",
        "plt.ylabel('Actual')\n",
        "plt.title('Confusion Matrix')\n",
        "plt.show()"
      ],
      "metadata": {
        "colab": {
          "base_uri": "https://localhost:8080/",
          "height": 971
        },
        "id": "9Fu-SbJw2S61",
        "outputId": "2b17bf4e-daa4-4fbf-85f1-e2ec2f14dd95"
      },
      "execution_count": 44,
      "outputs": [
        {
          "output_type": "stream",
          "name": "stdout",
          "text": [
            "spliting the data\n",
            "downsampling\n",
            "scaling\n",
            "[LightGBM] [Info] Number of positive: 20974, number of negative: 419480\n",
            "[LightGBM] [Info] Auto-choosing col-wise multi-threading, the overhead of testing was 0.166894 seconds.\n",
            "You can set `force_col_wise=true` to remove the overhead.\n",
            "[LightGBM] [Info] Total Bins 2354\n",
            "[LightGBM] [Info] Number of data points in the train set: 440454, number of used features: 13\n",
            "[LightGBM] [Info] [binary:BoostFromScore]: pavg=0.047619 -> initscore=-2.995732\n",
            "[LightGBM] [Info] Start training from score -2.995732\n",
            "              precision    recall  f1-score   support\n",
            "\n",
            "           0       0.99      1.00      0.99    104869\n",
            "           1       0.86      0.64      0.73      2621\n",
            "\n",
            "    accuracy                           0.99    107490\n",
            "   macro avg       0.93      0.82      0.86    107490\n",
            "weighted avg       0.99      0.99      0.99    107490\n",
            "\n"
          ]
        },
        {
          "output_type": "display_data",
          "data": {
            "text/plain": [
              "<Figure size 1000x700 with 2 Axes>"
            ],
            "image/png": "[encoded data removed]"
          },
          "metadata": {}
        }
      ]
    },
    {
      "cell_type": "markdown",
      "source": [
        "#catBoost"
      ],
      "metadata": {
        "id": "ywU5Nb6K2PNd"
      }
    },
    {
      "cell_type": "code",
      "source": [
        "from catboost import CatBoostClassifier"
      ],
      "metadata": {
        "id": "cIM6qQPnqY9S"
      },
      "execution_count": null,
      "outputs": []
    },
    {
      "cell_type": "code",
      "source": [
        "#X_train,X_test,X_val,y_train,y_val,y_test = data_preparation(df2,has_weight = False)\n",
        "X_train,X_val,X_test,y_train,y_val,y_test = data_preparation(df)"
      ],
      "metadata": {
        "colab": {
          "base_uri": "https://localhost:8080/"
        },
        "id": "3fHu5Xau2O1M",
        "outputId": "aa95526b-29ec-4b3c-ae40-16d82ba01999"
      },
      "execution_count": 35,
      "outputs": [
        {
          "output_type": "stream",
          "name": "stdout",
          "text": [
            "spliting the data\n",
            "downsampling\n",
            "scaling\n"
          ]
        }
      ]
    },
    {
      "cell_type": "code",
      "source": [
        "X_train,X_val,X_test,y_train,y_val,y_test = data_preparation(df2, has_weight = False)\n",
        "\n",
        "cat_clf = CatBoostClassifier(learning_rate=0.03, l2_leaf_reg=4, depth=9, verbose=100)\n",
        "\n",
        "cat_clf.fit(X_train, y_train, eval_set=(X_val, y_val), early_stopping_rounds=50)\n",
        "\n",
        "y_pred = cat_clf.predict(X_test)\n",
        "print(classification_report(y_test, y_pred))\n",
        "\n",
        "cm = confusion_matrix(y_test, y_pred)\n",
        "\n",
        "# Plot confusion matrix\n",
        "plt.figure(figsize=(10, 7))\n",
        "sns.heatmap(cm, annot=True, fmt='d', cmap='Blues', xticklabels=np.unique(y_test), yticklabels=np.unique(y_test))\n",
        "plt.xlabel('Predicted')\n",
        "plt.ylabel('Actual')\n",
        "plt.title('Confusion Matrix')\n",
        "plt.show()"
      ],
      "metadata": {
        "colab": {
          "base_uri": "https://localhost:8080/",
          "height": 1000
        },
        "id": "ayfAUq5L5ltb",
        "outputId": "c675d06e-fbfc-40c9-904c-0620e1f63f78"
      },
      "execution_count": 46,
      "outputs": [
        {
          "output_type": "stream",
          "name": "stdout",
          "text": [
            "spliting the data\n",
            "downsampling\n",
            "scaling\n",
            "0:\tlearn: 0.6381028\ttest: 0.7002315\tbest: 0.7002315 (0)\ttotal: 468ms\tremaining: 7m 47s\n",
            "100:\tlearn: 0.0809237\ttest: 0.4949883\tbest: 0.4889575 (96)\ttotal: 17.5s\tremaining: 2m 35s\n",
            "200:\tlearn: 0.0692306\ttest: 0.4575658\tbest: 0.4398387 (173)\ttotal: 33.5s\tremaining: 2m 13s\n",
            "Stopped by overfitting detector  (50 iterations wait)\n",
            "\n",
            "bestTest = 0.346939701\n",
            "bestIteration = 238\n",
            "\n",
            "Shrink model to first 239 iterations.\n",
            "              precision    recall  f1-score   support\n",
            "\n",
            "           0       0.99      1.00      0.99    104869\n",
            "           1       0.88      0.56      0.69      2621\n",
            "\n",
            "    accuracy                           0.99    107490\n",
            "   macro avg       0.94      0.78      0.84    107490\n",
            "weighted avg       0.99      0.99      0.99    107490\n",
            "\n"
          ]
        },
        {
          "output_type": "display_data",
          "data": {
            "text/plain": [
              "<Figure size 1000x700 with 2 Axes>"
            ],
            "image/png": "[encoded data removed]"
          },
          "metadata": {}
        }
      ]
    }
  ]
}
